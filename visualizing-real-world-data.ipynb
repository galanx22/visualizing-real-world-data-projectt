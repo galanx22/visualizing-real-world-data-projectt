{
 "cells": [
  {
   "cell_type": "code",
   "execution_count": 1,
   "metadata": {},
   "outputs": [
    {
     "data": {
      "text/html": [
       "        <script type=\"text/javascript\">\n",
       "        window.PlotlyConfig = {MathJaxConfig: 'local'};\n",
       "        if (window.MathJax) {MathJax.Hub.Config({SVG: {font: \"STIX-Web\"}});}\n",
       "        if (typeof require !== 'undefined') {\n",
       "        require.undef(\"plotly\");\n",
       "        requirejs.config({\n",
       "            paths: {\n",
       "                'plotly': ['https://cdn.plot.ly/plotly-latest.min']\n",
       "            }\n",
       "        });\n",
       "        require(['plotly'], function(Plotly) {\n",
       "            window._Plotly = Plotly;\n",
       "        });\n",
       "        }\n",
       "        </script>\n",
       "        "
      ]
     },
     "metadata": {},
     "output_type": "display_data"
    }
   ],
   "source": [
    "import pandas as pd\n",
    "import numpy as np\n",
    "import matplotlib.pyplot as plt\n",
    "import seaborn as sns\n",
    "import plotly.plotly as py\n",
    "import cufflinks as cf\n",
    "import pandas as pd\n",
    "cf.go_offline()"
   ]
  },
  {
   "cell_type": "code",
   "execution_count": 4,
   "metadata": {},
   "outputs": [
    {
     "data": {
      "text/html": [
       "<div>\n",
       "<style scoped>\n",
       "    .dataframe tbody tr th:only-of-type {\n",
       "        vertical-align: middle;\n",
       "    }\n",
       "\n",
       "    .dataframe tbody tr th {\n",
       "        vertical-align: top;\n",
       "    }\n",
       "\n",
       "    .dataframe thead th {\n",
       "        text-align: right;\n",
       "    }\n",
       "</style>\n",
       "<table border=\"1\" class=\"dataframe\">\n",
       "  <thead>\n",
       "    <tr style=\"text-align: right;\">\n",
       "      <th></th>\n",
       "      <th>Rank</th>\n",
       "      <th>Name</th>\n",
       "      <th>Platform</th>\n",
       "      <th>Year</th>\n",
       "      <th>Genre</th>\n",
       "      <th>Publisher</th>\n",
       "      <th>NA_Sales</th>\n",
       "      <th>EU_Sales</th>\n",
       "      <th>JP_Sales</th>\n",
       "      <th>Other_Sales</th>\n",
       "      <th>Global_Sales</th>\n",
       "    </tr>\n",
       "  </thead>\n",
       "  <tbody>\n",
       "    <tr>\n",
       "      <th>0</th>\n",
       "      <td>1</td>\n",
       "      <td>Wii Sports</td>\n",
       "      <td>Wii</td>\n",
       "      <td>2006.0</td>\n",
       "      <td>Sports</td>\n",
       "      <td>Nintendo</td>\n",
       "      <td>41.49</td>\n",
       "      <td>29.02</td>\n",
       "      <td>3.77</td>\n",
       "      <td>8.46</td>\n",
       "      <td>82.74</td>\n",
       "    </tr>\n",
       "    <tr>\n",
       "      <th>1</th>\n",
       "      <td>2</td>\n",
       "      <td>Super Mario Bros.</td>\n",
       "      <td>NES</td>\n",
       "      <td>1985.0</td>\n",
       "      <td>Platform</td>\n",
       "      <td>Nintendo</td>\n",
       "      <td>29.08</td>\n",
       "      <td>3.58</td>\n",
       "      <td>6.81</td>\n",
       "      <td>0.77</td>\n",
       "      <td>40.24</td>\n",
       "    </tr>\n",
       "    <tr>\n",
       "      <th>2</th>\n",
       "      <td>3</td>\n",
       "      <td>Mario Kart Wii</td>\n",
       "      <td>Wii</td>\n",
       "      <td>2008.0</td>\n",
       "      <td>Racing</td>\n",
       "      <td>Nintendo</td>\n",
       "      <td>15.85</td>\n",
       "      <td>12.88</td>\n",
       "      <td>3.79</td>\n",
       "      <td>3.31</td>\n",
       "      <td>35.82</td>\n",
       "    </tr>\n",
       "    <tr>\n",
       "      <th>3</th>\n",
       "      <td>4</td>\n",
       "      <td>Wii Sports Resort</td>\n",
       "      <td>Wii</td>\n",
       "      <td>2009.0</td>\n",
       "      <td>Sports</td>\n",
       "      <td>Nintendo</td>\n",
       "      <td>15.75</td>\n",
       "      <td>11.01</td>\n",
       "      <td>3.28</td>\n",
       "      <td>2.96</td>\n",
       "      <td>33.00</td>\n",
       "    </tr>\n",
       "    <tr>\n",
       "      <th>4</th>\n",
       "      <td>5</td>\n",
       "      <td>Pokemon Red/Pokemon Blue</td>\n",
       "      <td>GB</td>\n",
       "      <td>1996.0</td>\n",
       "      <td>Role-Playing</td>\n",
       "      <td>Nintendo</td>\n",
       "      <td>11.27</td>\n",
       "      <td>8.89</td>\n",
       "      <td>10.22</td>\n",
       "      <td>1.00</td>\n",
       "      <td>31.37</td>\n",
       "    </tr>\n",
       "  </tbody>\n",
       "</table>\n",
       "</div>"
      ],
      "text/plain": [
       "   Rank                      Name Platform    Year         Genre Publisher  \\\n",
       "0     1                Wii Sports      Wii  2006.0        Sports  Nintendo   \n",
       "1     2         Super Mario Bros.      NES  1985.0      Platform  Nintendo   \n",
       "2     3            Mario Kart Wii      Wii  2008.0        Racing  Nintendo   \n",
       "3     4         Wii Sports Resort      Wii  2009.0        Sports  Nintendo   \n",
       "4     5  Pokemon Red/Pokemon Blue       GB  1996.0  Role-Playing  Nintendo   \n",
       "\n",
       "   NA_Sales  EU_Sales  JP_Sales  Other_Sales  Global_Sales  \n",
       "0     41.49     29.02      3.77         8.46         82.74  \n",
       "1     29.08      3.58      6.81         0.77         40.24  \n",
       "2     15.85     12.88      3.79         3.31         35.82  \n",
       "3     15.75     11.01      3.28         2.96         33.00  \n",
       "4     11.27      8.89     10.22         1.00         31.37  "
      ]
     },
     "execution_count": 4,
     "metadata": {},
     "output_type": "execute_result"
    }
   ],
   "source": [
    "#Leo df\n",
    "df = pd.read_csv('/home/alejandro/Descargas/videogamesales/vgsales.csv')\n",
    "df.head()"
   ]
  },
  {
   "cell_type": "code",
   "execution_count": 5,
   "metadata": {},
   "outputs": [
    {
     "data": {
      "text/html": [
       "<div>\n",
       "<style scoped>\n",
       "    .dataframe tbody tr th:only-of-type {\n",
       "        vertical-align: middle;\n",
       "    }\n",
       "\n",
       "    .dataframe tbody tr th {\n",
       "        vertical-align: top;\n",
       "    }\n",
       "\n",
       "    .dataframe thead th {\n",
       "        text-align: right;\n",
       "    }\n",
       "</style>\n",
       "<table border=\"1\" class=\"dataframe\">\n",
       "  <thead>\n",
       "    <tr style=\"text-align: right;\">\n",
       "      <th></th>\n",
       "      <th>Rank</th>\n",
       "      <th>Year</th>\n",
       "      <th>NA_Sales</th>\n",
       "      <th>EU_Sales</th>\n",
       "      <th>JP_Sales</th>\n",
       "      <th>Other_Sales</th>\n",
       "      <th>Global_Sales</th>\n",
       "    </tr>\n",
       "  </thead>\n",
       "  <tbody>\n",
       "    <tr>\n",
       "      <th>count</th>\n",
       "      <td>16598.000000</td>\n",
       "      <td>16327.000000</td>\n",
       "      <td>16598.000000</td>\n",
       "      <td>16598.000000</td>\n",
       "      <td>16598.000000</td>\n",
       "      <td>16598.000000</td>\n",
       "      <td>16598.000000</td>\n",
       "    </tr>\n",
       "    <tr>\n",
       "      <th>mean</th>\n",
       "      <td>8300.605254</td>\n",
       "      <td>2006.406443</td>\n",
       "      <td>0.264667</td>\n",
       "      <td>0.146652</td>\n",
       "      <td>0.077782</td>\n",
       "      <td>0.048063</td>\n",
       "      <td>0.537441</td>\n",
       "    </tr>\n",
       "    <tr>\n",
       "      <th>std</th>\n",
       "      <td>4791.853933</td>\n",
       "      <td>5.828981</td>\n",
       "      <td>0.816683</td>\n",
       "      <td>0.505351</td>\n",
       "      <td>0.309291</td>\n",
       "      <td>0.188588</td>\n",
       "      <td>1.555028</td>\n",
       "    </tr>\n",
       "    <tr>\n",
       "      <th>min</th>\n",
       "      <td>1.000000</td>\n",
       "      <td>1980.000000</td>\n",
       "      <td>0.000000</td>\n",
       "      <td>0.000000</td>\n",
       "      <td>0.000000</td>\n",
       "      <td>0.000000</td>\n",
       "      <td>0.010000</td>\n",
       "    </tr>\n",
       "    <tr>\n",
       "      <th>25%</th>\n",
       "      <td>4151.250000</td>\n",
       "      <td>2003.000000</td>\n",
       "      <td>0.000000</td>\n",
       "      <td>0.000000</td>\n",
       "      <td>0.000000</td>\n",
       "      <td>0.000000</td>\n",
       "      <td>0.060000</td>\n",
       "    </tr>\n",
       "    <tr>\n",
       "      <th>50%</th>\n",
       "      <td>8300.500000</td>\n",
       "      <td>2007.000000</td>\n",
       "      <td>0.080000</td>\n",
       "      <td>0.020000</td>\n",
       "      <td>0.000000</td>\n",
       "      <td>0.010000</td>\n",
       "      <td>0.170000</td>\n",
       "    </tr>\n",
       "    <tr>\n",
       "      <th>75%</th>\n",
       "      <td>12449.750000</td>\n",
       "      <td>2010.000000</td>\n",
       "      <td>0.240000</td>\n",
       "      <td>0.110000</td>\n",
       "      <td>0.040000</td>\n",
       "      <td>0.040000</td>\n",
       "      <td>0.470000</td>\n",
       "    </tr>\n",
       "    <tr>\n",
       "      <th>max</th>\n",
       "      <td>16600.000000</td>\n",
       "      <td>2020.000000</td>\n",
       "      <td>41.490000</td>\n",
       "      <td>29.020000</td>\n",
       "      <td>10.220000</td>\n",
       "      <td>10.570000</td>\n",
       "      <td>82.740000</td>\n",
       "    </tr>\n",
       "  </tbody>\n",
       "</table>\n",
       "</div>"
      ],
      "text/plain": [
       "               Rank          Year      NA_Sales      EU_Sales      JP_Sales  \\\n",
       "count  16598.000000  16327.000000  16598.000000  16598.000000  16598.000000   \n",
       "mean    8300.605254   2006.406443      0.264667      0.146652      0.077782   \n",
       "std     4791.853933      5.828981      0.816683      0.505351      0.309291   \n",
       "min        1.000000   1980.000000      0.000000      0.000000      0.000000   \n",
       "25%     4151.250000   2003.000000      0.000000      0.000000      0.000000   \n",
       "50%     8300.500000   2007.000000      0.080000      0.020000      0.000000   \n",
       "75%    12449.750000   2010.000000      0.240000      0.110000      0.040000   \n",
       "max    16600.000000   2020.000000     41.490000     29.020000     10.220000   \n",
       "\n",
       "        Other_Sales  Global_Sales  \n",
       "count  16598.000000  16598.000000  \n",
       "mean       0.048063      0.537441  \n",
       "std        0.188588      1.555028  \n",
       "min        0.000000      0.010000  \n",
       "25%        0.000000      0.060000  \n",
       "50%        0.010000      0.170000  \n",
       "75%        0.040000      0.470000  \n",
       "max       10.570000     82.740000  "
      ]
     },
     "execution_count": 5,
     "metadata": {},
     "output_type": "execute_result"
    }
   ],
   "source": [
    "#Inventigo df\n",
    "df.describe()"
   ]
  },
  {
   "cell_type": "code",
   "execution_count": 6,
   "metadata": {},
   "outputs": [
    {
     "data": {
      "text/plain": [
       "Rank              0\n",
       "Name              0\n",
       "Platform          0\n",
       "Year            271\n",
       "Genre             0\n",
       "Publisher        58\n",
       "NA_Sales          0\n",
       "EU_Sales          0\n",
       "JP_Sales          0\n",
       "Other_Sales       0\n",
       "Global_Sales      0\n",
       "dtype: int64"
      ]
     },
     "execution_count": 6,
     "metadata": {},
     "output_type": "execute_result"
    }
   ],
   "source": [
    "df.isnull().sum()"
   ]
  },
  {
   "cell_type": "code",
   "execution_count": 7,
   "metadata": {},
   "outputs": [],
   "source": [
    "#Elimino filas con valores nulos, me desvirtúan en análisis\n",
    "df = df.dropna()"
   ]
  },
  {
   "cell_type": "code",
   "execution_count": 8,
   "metadata": {},
   "outputs": [
    {
     "data": {
      "text/plain": [
       "Rank            0\n",
       "Name            0\n",
       "Platform        0\n",
       "Year            0\n",
       "Genre           0\n",
       "Publisher       0\n",
       "NA_Sales        0\n",
       "EU_Sales        0\n",
       "JP_Sales        0\n",
       "Other_Sales     0\n",
       "Global_Sales    0\n",
       "dtype: int64"
      ]
     },
     "execution_count": 8,
     "metadata": {},
     "output_type": "execute_result"
    }
   ],
   "source": [
    "df.isnull().sum()"
   ]
  },
  {
   "cell_type": "code",
   "execution_count": 9,
   "metadata": {},
   "outputs": [],
   "source": [
    "#Variable year es integer, no float\n",
    "df['Year'] = df['Year'].apply(np.int64)"
   ]
  },
  {
   "cell_type": "code",
   "execution_count": 10,
   "metadata": {},
   "outputs": [
    {
     "data": {
      "text/html": [
       "<div>\n",
       "<style scoped>\n",
       "    .dataframe tbody tr th:only-of-type {\n",
       "        vertical-align: middle;\n",
       "    }\n",
       "\n",
       "    .dataframe tbody tr th {\n",
       "        vertical-align: top;\n",
       "    }\n",
       "\n",
       "    .dataframe thead th {\n",
       "        text-align: right;\n",
       "    }\n",
       "</style>\n",
       "<table border=\"1\" class=\"dataframe\">\n",
       "  <thead>\n",
       "    <tr style=\"text-align: right;\">\n",
       "      <th></th>\n",
       "      <th>Rank</th>\n",
       "      <th>Name</th>\n",
       "      <th>Platform</th>\n",
       "      <th>Year</th>\n",
       "      <th>Genre</th>\n",
       "      <th>Publisher</th>\n",
       "      <th>NA_Sales</th>\n",
       "      <th>EU_Sales</th>\n",
       "      <th>JP_Sales</th>\n",
       "      <th>Other_Sales</th>\n",
       "      <th>Global_Sales</th>\n",
       "    </tr>\n",
       "  </thead>\n",
       "  <tbody>\n",
       "    <tr>\n",
       "      <th>0</th>\n",
       "      <td>1</td>\n",
       "      <td>Wii Sports</td>\n",
       "      <td>Wii</td>\n",
       "      <td>2006</td>\n",
       "      <td>Sports</td>\n",
       "      <td>Nintendo</td>\n",
       "      <td>41.49</td>\n",
       "      <td>29.02</td>\n",
       "      <td>3.77</td>\n",
       "      <td>8.46</td>\n",
       "      <td>82.74</td>\n",
       "    </tr>\n",
       "    <tr>\n",
       "      <th>1</th>\n",
       "      <td>2</td>\n",
       "      <td>Super Mario Bros.</td>\n",
       "      <td>NES</td>\n",
       "      <td>1985</td>\n",
       "      <td>Platform</td>\n",
       "      <td>Nintendo</td>\n",
       "      <td>29.08</td>\n",
       "      <td>3.58</td>\n",
       "      <td>6.81</td>\n",
       "      <td>0.77</td>\n",
       "      <td>40.24</td>\n",
       "    </tr>\n",
       "    <tr>\n",
       "      <th>2</th>\n",
       "      <td>3</td>\n",
       "      <td>Mario Kart Wii</td>\n",
       "      <td>Wii</td>\n",
       "      <td>2008</td>\n",
       "      <td>Racing</td>\n",
       "      <td>Nintendo</td>\n",
       "      <td>15.85</td>\n",
       "      <td>12.88</td>\n",
       "      <td>3.79</td>\n",
       "      <td>3.31</td>\n",
       "      <td>35.82</td>\n",
       "    </tr>\n",
       "    <tr>\n",
       "      <th>3</th>\n",
       "      <td>4</td>\n",
       "      <td>Wii Sports Resort</td>\n",
       "      <td>Wii</td>\n",
       "      <td>2009</td>\n",
       "      <td>Sports</td>\n",
       "      <td>Nintendo</td>\n",
       "      <td>15.75</td>\n",
       "      <td>11.01</td>\n",
       "      <td>3.28</td>\n",
       "      <td>2.96</td>\n",
       "      <td>33.00</td>\n",
       "    </tr>\n",
       "    <tr>\n",
       "      <th>4</th>\n",
       "      <td>5</td>\n",
       "      <td>Pokemon Red/Pokemon Blue</td>\n",
       "      <td>GB</td>\n",
       "      <td>1996</td>\n",
       "      <td>Role-Playing</td>\n",
       "      <td>Nintendo</td>\n",
       "      <td>11.27</td>\n",
       "      <td>8.89</td>\n",
       "      <td>10.22</td>\n",
       "      <td>1.00</td>\n",
       "      <td>31.37</td>\n",
       "    </tr>\n",
       "  </tbody>\n",
       "</table>\n",
       "</div>"
      ],
      "text/plain": [
       "   Rank                      Name Platform  Year         Genre Publisher  \\\n",
       "0     1                Wii Sports      Wii  2006        Sports  Nintendo   \n",
       "1     2         Super Mario Bros.      NES  1985      Platform  Nintendo   \n",
       "2     3            Mario Kart Wii      Wii  2008        Racing  Nintendo   \n",
       "3     4         Wii Sports Resort      Wii  2009        Sports  Nintendo   \n",
       "4     5  Pokemon Red/Pokemon Blue       GB  1996  Role-Playing  Nintendo   \n",
       "\n",
       "   NA_Sales  EU_Sales  JP_Sales  Other_Sales  Global_Sales  \n",
       "0     41.49     29.02      3.77         8.46         82.74  \n",
       "1     29.08      3.58      6.81         0.77         40.24  \n",
       "2     15.85     12.88      3.79         3.31         35.82  \n",
       "3     15.75     11.01      3.28         2.96         33.00  \n",
       "4     11.27      8.89     10.22         1.00         31.37  "
      ]
     },
     "execution_count": 10,
     "metadata": {},
     "output_type": "execute_result"
    }
   ],
   "source": [
    "#Reviso df\n",
    "df.head()"
   ]
  },
  {
   "cell_type": "code",
   "execution_count": 11,
   "metadata": {},
   "outputs": [
    {
     "data": {
      "application/vnd.plotly.v1+json": {
       "config": {
        "linkText": "Export to plot.ly",
        "plotlyServerURL": "https://plot.ly",
        "showLink": true
       },
       "data": [
        {
         "line": {
          "color": "rgba(55, 128, 191, 1.0)",
          "dash": "solid",
          "shape": "linear",
          "width": 1.3
         },
         "mode": "lines",
         "name": "Name",
         "text": "",
         "type": "scatter",
         "uid": "59e5c044-b14f-482d-8e1c-58a89d2f6f27",
         "x": [
          1980,
          1981,
          1982,
          1983,
          1984,
          1985,
          1986,
          1987,
          1988,
          1989,
          1990,
          1991,
          1992,
          1993,
          1994,
          1995,
          1996,
          1997,
          1998,
          1999,
          2000,
          2001,
          2002,
          2003,
          2004,
          2005,
          2006,
          2007,
          2008,
          2009,
          2010,
          2011,
          2012,
          2013,
          2014,
          2015,
          2016,
          2017,
          2020
         ],
         "y": [
          9,
          46,
          36,
          17,
          14,
          14,
          21,
          16,
          15,
          17,
          16,
          41,
          43,
          60,
          121,
          219,
          263,
          289,
          379,
          338,
          349,
          482,
          829,
          775,
          744,
          936,
          1008,
          1201,
          1428,
          1431,
          1257,
          1136,
          655,
          546,
          580,
          614,
          342,
          3,
          1
         ]
        }
       ],
       "layout": {
        "legend": {
         "bgcolor": "#F5F6F9",
         "font": {
          "color": "#4D5663"
         }
        },
        "paper_bgcolor": "#F5F6F9",
        "plot_bgcolor": "#F5F6F9",
        "title": {
         "font": {
          "color": "#4D5663"
         },
         "text": "Evolución producción de videojuegos por año"
        },
        "xaxis": {
         "gridcolor": "#E1E5ED",
         "showgrid": true,
         "tickfont": {
          "color": "#4D5663"
         },
         "title": {
          "font": {
           "color": "#4D5663"
          },
          "text": "Número de juegos"
         },
         "zerolinecolor": "#E1E5ED"
        },
        "yaxis": {
         "gridcolor": "#E1E5ED",
         "showgrid": true,
         "tickfont": {
          "color": "#4D5663"
         },
         "title": {
          "font": {
           "color": "#4D5663"
          },
          "text": "Nº juegos"
         },
         "zerolinecolor": "#E1E5ED"
        }
       }
      },
      "text/html": [
       "<div>\n",
       "        \n",
       "        \n",
       "            <div id=\"5d9a735f-699f-493c-b766-66ba3e168dff\" class=\"plotly-graph-div\" style=\"height:525px; width:100%;\"></div>\n",
       "            <script type=\"text/javascript\">\n",
       "                require([\"plotly\"], function(Plotly) {\n",
       "                    window.PLOTLYENV=window.PLOTLYENV || {};\n",
       "                    window.PLOTLYENV.BASE_URL='https://plot.ly';\n",
       "                    \n",
       "                if (document.getElementById(\"5d9a735f-699f-493c-b766-66ba3e168dff\")) {\n",
       "                    Plotly.newPlot(\n",
       "                        '5d9a735f-699f-493c-b766-66ba3e168dff',\n",
       "                        [{\"line\": {\"color\": \"rgba(55, 128, 191, 1.0)\", \"dash\": \"solid\", \"shape\": \"linear\", \"width\": 1.3}, \"mode\": \"lines\", \"name\": \"Name\", \"text\": \"\", \"type\": \"scatter\", \"uid\": \"59e5c044-b14f-482d-8e1c-58a89d2f6f27\", \"x\": [1980, 1981, 1982, 1983, 1984, 1985, 1986, 1987, 1988, 1989, 1990, 1991, 1992, 1993, 1994, 1995, 1996, 1997, 1998, 1999, 2000, 2001, 2002, 2003, 2004, 2005, 2006, 2007, 2008, 2009, 2010, 2011, 2012, 2013, 2014, 2015, 2016, 2017, 2020], \"y\": [9, 46, 36, 17, 14, 14, 21, 16, 15, 17, 16, 41, 43, 60, 121, 219, 263, 289, 379, 338, 349, 482, 829, 775, 744, 936, 1008, 1201, 1428, 1431, 1257, 1136, 655, 546, 580, 614, 342, 3, 1]}],\n",
       "                        {\"legend\": {\"bgcolor\": \"#F5F6F9\", \"font\": {\"color\": \"#4D5663\"}}, \"paper_bgcolor\": \"#F5F6F9\", \"plot_bgcolor\": \"#F5F6F9\", \"title\": {\"font\": {\"color\": \"#4D5663\"}, \"text\": \"Evoluci\\u00f3n producci\\u00f3n de videojuegos por a\\u00f1o\"}, \"xaxis\": {\"gridcolor\": \"#E1E5ED\", \"showgrid\": true, \"tickfont\": {\"color\": \"#4D5663\"}, \"title\": {\"font\": {\"color\": \"#4D5663\"}, \"text\": \"N\\u00famero de juegos\"}, \"zerolinecolor\": \"#E1E5ED\"}, \"yaxis\": {\"gridcolor\": \"#E1E5ED\", \"showgrid\": true, \"tickfont\": {\"color\": \"#4D5663\"}, \"title\": {\"font\": {\"color\": \"#4D5663\"}, \"text\": \"N\\u00ba juegos\"}, \"zerolinecolor\": \"#E1E5ED\"}},\n",
       "                        {\"showLink\": true, \"linkText\": \"Export to plot.ly\", \"plotlyServerURL\": \"https://plot.ly\", \"responsive\": true}\n",
       "                    ).then(function(){\n",
       "                            \n",
       "var gd = document.getElementById('5d9a735f-699f-493c-b766-66ba3e168dff');\n",
       "var x = new MutationObserver(function (mutations, observer) {{\n",
       "        var display = window.getComputedStyle(gd).display;\n",
       "        if (!display || display === 'none') {{\n",
       "            console.log([gd, 'removed!']);\n",
       "            Plotly.purge(gd);\n",
       "            observer.disconnect();\n",
       "        }}\n",
       "}});\n",
       "\n",
       "// Listen for the removal of the full notebook cells\n",
       "var notebookContainer = gd.closest('#notebook-container');\n",
       "if (notebookContainer) {{\n",
       "    x.observe(notebookContainer, {childList: true});\n",
       "}}\n",
       "\n",
       "// Listen for the clearing of the current output cell\n",
       "var outputEl = gd.closest('.output');\n",
       "if (outputEl) {{\n",
       "    x.observe(outputEl, {childList: true});\n",
       "}}\n",
       "\n",
       "                        })\n",
       "                };\n",
       "                });\n",
       "            </script>\n",
       "        </div>"
      ]
     },
     "metadata": {},
     "output_type": "display_data"
    }
   ],
   "source": [
    "#Quiero ver la evolución de nº de videojuegos por año\n",
    "juegos_x_año = df[['Name','Year','Genre']]\n",
    "juegos_x_año = juegos_x_año.groupby(juegos_x_año['Year']).agg({'Name': 'count'})\n",
    "juegos_x_año = juegos_x_año.reset_index()\n",
    "juegos_x_año\n",
    "\n",
    "juegos_x_año.iplot(kind='line', x='Year', xTitle='Número de juegos', color='blue',\n",
    "          yTitle='Nº juegos', title='Evolución producción de videojuegos por año')"
   ]
  },
  {
   "cell_type": "code",
   "execution_count": 12,
   "metadata": {},
   "outputs": [
    {
     "data": {
      "application/vnd.plotly.v1+json": {
       "config": {
        "linkText": "Export to plot.ly",
        "plotlyServerURL": "https://plot.ly",
        "showLink": true
       },
       "data": [
        {
         "marker": {
          "color": "rgba(55, 128, 191, 0.6)",
          "line": {
           "color": "rgba(55, 128, 191, 1.0)",
           "width": 1
          }
         },
         "name": "Global_Sales",
         "orientation": "v",
         "text": "",
         "type": "bar",
         "uid": "6cd5f7bd-382e-4aeb-9857-0990408292f7",
         "x": [
          "Action",
          "Adventure",
          "Fighting",
          "Misc",
          "Platform",
          "Puzzle",
          "Racing",
          "Role-Playing",
          "Shooter",
          "Simulation",
          "Sports",
          "Strategy"
         ],
         "y": [
          1722.839999999971,
          234.59000000000134,
          444.0499999999994,
          789.869999999994,
          829.1299999999976,
          242.21000000000052,
          726.7599999999954,
          923.8299999999941,
          1026.1999999999957,
          389.979999999998,
          1309.239999999988,
          173.27000000000032
         ]
        }
       ],
       "layout": {
        "legend": {
         "bgcolor": "#F5F6F9",
         "font": {
          "color": "#4D5663"
         }
        },
        "paper_bgcolor": "#F5F6F9",
        "plot_bgcolor": "#F5F6F9",
        "title": {
         "font": {
          "color": "#4D5663"
         },
         "text": "Número de juegos por género"
        },
        "xaxis": {
         "gridcolor": "#E1E5ED",
         "showgrid": true,
         "tickfont": {
          "color": "#4D5663"
         },
         "title": {
          "font": {
           "color": "#4D5663"
          },
          "text": "Género"
         },
         "zerolinecolor": "#E1E5ED"
        },
        "yaxis": {
         "gridcolor": "#E1E5ED",
         "showgrid": true,
         "tickfont": {
          "color": "#4D5663"
         },
         "title": {
          "font": {
           "color": "#4D5663"
          },
          "text": "Número de juegos"
         },
         "zerolinecolor": "#E1E5ED"
        }
       }
      },
      "text/html": [
       "<div>\n",
       "        \n",
       "        \n",
       "            <div id=\"bebaabb5-0f02-4608-9152-491f16d18ca8\" class=\"plotly-graph-div\" style=\"height:525px; width:100%;\"></div>\n",
       "            <script type=\"text/javascript\">\n",
       "                require([\"plotly\"], function(Plotly) {\n",
       "                    window.PLOTLYENV=window.PLOTLYENV || {};\n",
       "                    window.PLOTLYENV.BASE_URL='https://plot.ly';\n",
       "                    \n",
       "                if (document.getElementById(\"bebaabb5-0f02-4608-9152-491f16d18ca8\")) {\n",
       "                    Plotly.newPlot(\n",
       "                        'bebaabb5-0f02-4608-9152-491f16d18ca8',\n",
       "                        [{\"marker\": {\"color\": \"rgba(55, 128, 191, 0.6)\", \"line\": {\"color\": \"rgba(55, 128, 191, 1.0)\", \"width\": 1}}, \"name\": \"Global_Sales\", \"orientation\": \"v\", \"text\": \"\", \"type\": \"bar\", \"uid\": \"6cd5f7bd-382e-4aeb-9857-0990408292f7\", \"x\": [\"Action\", \"Adventure\", \"Fighting\", \"Misc\", \"Platform\", \"Puzzle\", \"Racing\", \"Role-Playing\", \"Shooter\", \"Simulation\", \"Sports\", \"Strategy\"], \"y\": [1722.839999999971, 234.59000000000134, 444.0499999999994, 789.869999999994, 829.1299999999976, 242.21000000000052, 726.7599999999954, 923.8299999999941, 1026.1999999999957, 389.979999999998, 1309.239999999988, 173.27000000000032]}],\n",
       "                        {\"legend\": {\"bgcolor\": \"#F5F6F9\", \"font\": {\"color\": \"#4D5663\"}}, \"paper_bgcolor\": \"#F5F6F9\", \"plot_bgcolor\": \"#F5F6F9\", \"title\": {\"font\": {\"color\": \"#4D5663\"}, \"text\": \"N\\u00famero de juegos por g\\u00e9nero\"}, \"xaxis\": {\"gridcolor\": \"#E1E5ED\", \"showgrid\": true, \"tickfont\": {\"color\": \"#4D5663\"}, \"title\": {\"font\": {\"color\": \"#4D5663\"}, \"text\": \"G\\u00e9nero\"}, \"zerolinecolor\": \"#E1E5ED\"}, \"yaxis\": {\"gridcolor\": \"#E1E5ED\", \"showgrid\": true, \"tickfont\": {\"color\": \"#4D5663\"}, \"title\": {\"font\": {\"color\": \"#4D5663\"}, \"text\": \"N\\u00famero de juegos\"}, \"zerolinecolor\": \"#E1E5ED\"}},\n",
       "                        {\"showLink\": true, \"linkText\": \"Export to plot.ly\", \"plotlyServerURL\": \"https://plot.ly\", \"responsive\": true}\n",
       "                    ).then(function(){\n",
       "                            \n",
       "var gd = document.getElementById('bebaabb5-0f02-4608-9152-491f16d18ca8');\n",
       "var x = new MutationObserver(function (mutations, observer) {{\n",
       "        var display = window.getComputedStyle(gd).display;\n",
       "        if (!display || display === 'none') {{\n",
       "            console.log([gd, 'removed!']);\n",
       "            Plotly.purge(gd);\n",
       "            observer.disconnect();\n",
       "        }}\n",
       "}});\n",
       "\n",
       "// Listen for the removal of the full notebook cells\n",
       "var notebookContainer = gd.closest('#notebook-container');\n",
       "if (notebookContainer) {{\n",
       "    x.observe(notebookContainer, {childList: true});\n",
       "}}\n",
       "\n",
       "// Listen for the clearing of the current output cell\n",
       "var outputEl = gd.closest('.output');\n",
       "if (outputEl) {{\n",
       "    x.observe(outputEl, {childList: true});\n",
       "}}\n",
       "\n",
       "                        })\n",
       "                };\n",
       "                });\n",
       "            </script>\n",
       "        </div>"
      ]
     },
     "metadata": {},
     "output_type": "display_data"
    }
   ],
   "source": [
    "#Nº de videojuegos por género\n",
    "juegos_x_genero = df.pivot_table(index = ['Genre'], values = ['Global_Sales'], aggfunc = 'sum')\n",
    "juegos_x_genero = juegos_x_genero.reset_index()\n",
    "\n",
    "\n",
    "juegos_x_genero.iplot(kind='bar', x='Genre', xTitle='Género', color='blue',\n",
    "          yTitle='Número de juegos', title='Número de juegos por género')"
   ]
  },
  {
   "cell_type": "code",
   "execution_count": 13,
   "metadata": {},
   "outputs": [],
   "source": [
    "#Bar graph: Ventas globales por top publishers\n",
    "data = df.groupby('Publisher', as_index=False).agg({'Global_Sales':'sum'})\n",
    "data = data[data['Global_Sales']>100]"
   ]
  },
  {
   "cell_type": "code",
   "execution_count": 14,
   "metadata": {
    "scrolled": true
   },
   "outputs": [
    {
     "data": {
      "application/vnd.plotly.v1+json": {
       "config": {
        "linkText": "Export to plot.ly",
        "plotlyServerURL": "https://plot.ly",
        "showLink": true
       },
       "data": [
        {
         "marker": {
          "color": "rgba(55, 128, 191, 0.6)",
          "line": {
           "color": "rgba(55, 128, 191, 1.0)",
           "width": 1
          }
         },
         "name": "Global_Sales",
         "orientation": "v",
         "text": "",
         "type": "bar",
         "uid": "6d2c60fc-7f0b-4ce7-b486-e00f12d022e9",
         "x": [
          "Activision",
          "Atari",
          "Capcom",
          "Disney Interactive Studios",
          "Electronic Arts",
          "Konami Digital Entertainment",
          "Microsoft Game Studios",
          "Namco Bandai Games",
          "Nintendo",
          "Sega",
          "Sony Computer Entertainment",
          "Square Enix",
          "THQ",
          "Take-Two Interactive",
          "Ubisoft",
          "Warner Bros. Interactive Entertainment"
         ],
         "y": [
          721.4099999999981,
          146.77000000000027,
          199.95000000000002,
          118.76000000000003,
          1093.389999999996,
          278.559999999998,
          245.79000000000005,
          253.65000000000083,
          1784.4299999999982,
          270.69999999999925,
          607.2799999999988,
          144.73000000000027,
          340.43999999999943,
          399.2999999999996,
          473.53999999999934,
          142.34000000000015
         ]
        }
       ],
       "layout": {
        "legend": {
         "bgcolor": "#F5F6F9",
         "font": {
          "color": "#4D5663"
         }
        },
        "paper_bgcolor": "#F5F6F9",
        "plot_bgcolor": "#F5F6F9",
        "title": {
         "font": {
          "color": "#4D5663"
         },
         "text": "Ventas globales por top publishers"
        },
        "xaxis": {
         "gridcolor": "#E1E5ED",
         "showgrid": true,
         "tickfont": {
          "color": "#4D5663"
         },
         "title": {
          "font": {
           "color": "#4D5663"
          },
          "text": "Publisher"
         },
         "zerolinecolor": "#E1E5ED"
        },
        "yaxis": {
         "gridcolor": "#E1E5ED",
         "showgrid": true,
         "tickfont": {
          "color": "#4D5663"
         },
         "title": {
          "font": {
           "color": "#4D5663"
          },
          "text": "Global_Sales"
         },
         "zerolinecolor": "#E1E5ED"
        }
       }
      },
      "text/html": [
       "<div>\n",
       "        \n",
       "        \n",
       "            <div id=\"8f930333-41db-48ea-a6de-ad9dc686ae3a\" class=\"plotly-graph-div\" style=\"height:525px; width:100%;\"></div>\n",
       "            <script type=\"text/javascript\">\n",
       "                require([\"plotly\"], function(Plotly) {\n",
       "                    window.PLOTLYENV=window.PLOTLYENV || {};\n",
       "                    window.PLOTLYENV.BASE_URL='https://plot.ly';\n",
       "                    \n",
       "                if (document.getElementById(\"8f930333-41db-48ea-a6de-ad9dc686ae3a\")) {\n",
       "                    Plotly.newPlot(\n",
       "                        '8f930333-41db-48ea-a6de-ad9dc686ae3a',\n",
       "                        [{\"marker\": {\"color\": \"rgba(55, 128, 191, 0.6)\", \"line\": {\"color\": \"rgba(55, 128, 191, 1.0)\", \"width\": 1}}, \"name\": \"Global_Sales\", \"orientation\": \"v\", \"text\": \"\", \"type\": \"bar\", \"uid\": \"6d2c60fc-7f0b-4ce7-b486-e00f12d022e9\", \"x\": [\"Activision\", \"Atari\", \"Capcom\", \"Disney Interactive Studios\", \"Electronic Arts\", \"Konami Digital Entertainment\", \"Microsoft Game Studios\", \"Namco Bandai Games\", \"Nintendo\", \"Sega\", \"Sony Computer Entertainment\", \"Square Enix\", \"THQ\", \"Take-Two Interactive\", \"Ubisoft\", \"Warner Bros. Interactive Entertainment\"], \"y\": [721.4099999999981, 146.77000000000027, 199.95000000000002, 118.76000000000003, 1093.389999999996, 278.559999999998, 245.79000000000005, 253.65000000000083, 1784.4299999999982, 270.69999999999925, 607.2799999999988, 144.73000000000027, 340.43999999999943, 399.2999999999996, 473.53999999999934, 142.34000000000015]}],\n",
       "                        {\"legend\": {\"bgcolor\": \"#F5F6F9\", \"font\": {\"color\": \"#4D5663\"}}, \"paper_bgcolor\": \"#F5F6F9\", \"plot_bgcolor\": \"#F5F6F9\", \"title\": {\"font\": {\"color\": \"#4D5663\"}, \"text\": \"Ventas globales por top publishers\"}, \"xaxis\": {\"gridcolor\": \"#E1E5ED\", \"showgrid\": true, \"tickfont\": {\"color\": \"#4D5663\"}, \"title\": {\"font\": {\"color\": \"#4D5663\"}, \"text\": \"Publisher\"}, \"zerolinecolor\": \"#E1E5ED\"}, \"yaxis\": {\"gridcolor\": \"#E1E5ED\", \"showgrid\": true, \"tickfont\": {\"color\": \"#4D5663\"}, \"title\": {\"font\": {\"color\": \"#4D5663\"}, \"text\": \"Global_Sales\"}, \"zerolinecolor\": \"#E1E5ED\"}},\n",
       "                        {\"showLink\": true, \"linkText\": \"Export to plot.ly\", \"plotlyServerURL\": \"https://plot.ly\", \"responsive\": true}\n",
       "                    ).then(function(){\n",
       "                            \n",
       "var gd = document.getElementById('8f930333-41db-48ea-a6de-ad9dc686ae3a');\n",
       "var x = new MutationObserver(function (mutations, observer) {{\n",
       "        var display = window.getComputedStyle(gd).display;\n",
       "        if (!display || display === 'none') {{\n",
       "            console.log([gd, 'removed!']);\n",
       "            Plotly.purge(gd);\n",
       "            observer.disconnect();\n",
       "        }}\n",
       "}});\n",
       "\n",
       "// Listen for the removal of the full notebook cells\n",
       "var notebookContainer = gd.closest('#notebook-container');\n",
       "if (notebookContainer) {{\n",
       "    x.observe(notebookContainer, {childList: true});\n",
       "}}\n",
       "\n",
       "// Listen for the clearing of the current output cell\n",
       "var outputEl = gd.closest('.output');\n",
       "if (outputEl) {{\n",
       "    x.observe(outputEl, {childList: true});\n",
       "}}\n",
       "\n",
       "                        })\n",
       "                };\n",
       "                });\n",
       "            </script>\n",
       "        </div>"
      ]
     },
     "metadata": {},
     "output_type": "display_data"
    }
   ],
   "source": [
    "data.iplot(kind='bar', x='Publisher',  xTitle='Publisher',color='blue',\n",
    "           yTitle='Global_Sales', title='Ventas globales por top publishers')"
   ]
  },
  {
   "cell_type": "code",
   "execution_count": 20,
   "metadata": {},
   "outputs": [
    {
     "data": {
      "application/vnd.plotly.v1+json": {
       "config": {
        "linkText": "Export to plot.ly",
        "plotlyServerURL": "https://plot.ly",
        "showLink": true
       },
       "data": [
        {
         "marker": {
          "color": "rgba(0, 128, 0, 0.6)",
          "line": {
           "color": "rgba(0, 128, 0, 1.0)",
           "width": 1
          }
         },
         "name": "Global_Sales",
         "orientation": "v",
         "text": "",
         "type": "bar",
         "uid": "34222bba-2a86-45c0-9449-5892905aebb9",
         "x": [
          "Wii Sports",
          "Grand Theft Auto V",
          "Super Mario Bros.",
          "Tetris",
          "Mario Kart Wii",
          "Wii Sports Resort",
          "Pokemon Red/Pokemon Blue",
          "Call of Duty: Modern Warfare 3",
          "New Super Mario Bros.",
          "Call of Duty: Black Ops II"
         ],
         "y": [
          82.74,
          55.92,
          45.31,
          35.84,
          35.82,
          33,
          31.37,
          30.83,
          30.01,
          29.72
         ]
        }
       ],
       "layout": {
        "legend": {
         "bgcolor": "#F5F6F9",
         "font": {
          "color": "#4D5663"
         }
        },
        "paper_bgcolor": "#F5F6F9",
        "plot_bgcolor": "#F5F6F9",
        "title": {
         "font": {
          "color": "#4D5663"
         },
         "text": "Top 10 juegos en ventas"
        },
        "xaxis": {
         "gridcolor": "#E1E5ED",
         "showgrid": true,
         "tickfont": {
          "color": "#4D5663"
         },
         "title": {
          "font": {
           "color": "#4D5663"
          },
          "text": "Name"
         },
         "zerolinecolor": "#E1E5ED"
        },
        "yaxis": {
         "gridcolor": "#E1E5ED",
         "showgrid": true,
         "tickfont": {
          "color": "#4D5663"
         },
         "title": {
          "font": {
           "color": "#4D5663"
          },
          "text": "Global_Sales (Millones de €)"
         },
         "zerolinecolor": "#E1E5ED"
        }
       }
      },
      "text/html": [
       "<div>\n",
       "        \n",
       "        \n",
       "            <div id=\"48b186bf-b739-4bb3-b246-059a988a3a6e\" class=\"plotly-graph-div\" style=\"height:525px; width:100%;\"></div>\n",
       "            <script type=\"text/javascript\">\n",
       "                require([\"plotly\"], function(Plotly) {\n",
       "                    window.PLOTLYENV=window.PLOTLYENV || {};\n",
       "                    window.PLOTLYENV.BASE_URL='https://plot.ly';\n",
       "                    \n",
       "                if (document.getElementById(\"48b186bf-b739-4bb3-b246-059a988a3a6e\")) {\n",
       "                    Plotly.newPlot(\n",
       "                        '48b186bf-b739-4bb3-b246-059a988a3a6e',\n",
       "                        [{\"marker\": {\"color\": \"rgba(0, 128, 0, 0.6)\", \"line\": {\"color\": \"rgba(0, 128, 0, 1.0)\", \"width\": 1}}, \"name\": \"Global_Sales\", \"orientation\": \"v\", \"text\": \"\", \"type\": \"bar\", \"uid\": \"34222bba-2a86-45c0-9449-5892905aebb9\", \"x\": [\"Wii Sports\", \"Grand Theft Auto V\", \"Super Mario Bros.\", \"Tetris\", \"Mario Kart Wii\", \"Wii Sports Resort\", \"Pokemon Red/Pokemon Blue\", \"Call of Duty: Modern Warfare 3\", \"New Super Mario Bros.\", \"Call of Duty: Black Ops II\"], \"y\": [82.74, 55.92, 45.31, 35.84, 35.82, 33.0, 31.37, 30.83, 30.01, 29.72]}],\n",
       "                        {\"legend\": {\"bgcolor\": \"#F5F6F9\", \"font\": {\"color\": \"#4D5663\"}}, \"paper_bgcolor\": \"#F5F6F9\", \"plot_bgcolor\": \"#F5F6F9\", \"title\": {\"font\": {\"color\": \"#4D5663\"}, \"text\": \"Top 10 juegos en ventas\"}, \"xaxis\": {\"gridcolor\": \"#E1E5ED\", \"showgrid\": true, \"tickfont\": {\"color\": \"#4D5663\"}, \"title\": {\"font\": {\"color\": \"#4D5663\"}, \"text\": \"Name\"}, \"zerolinecolor\": \"#E1E5ED\"}, \"yaxis\": {\"gridcolor\": \"#E1E5ED\", \"showgrid\": true, \"tickfont\": {\"color\": \"#4D5663\"}, \"title\": {\"font\": {\"color\": \"#4D5663\"}, \"text\": \"Global_Sales (Millones de \\u20ac)\"}, \"zerolinecolor\": \"#E1E5ED\"}},\n",
       "                        {\"showLink\": true, \"linkText\": \"Export to plot.ly\", \"plotlyServerURL\": \"https://plot.ly\", \"responsive\": true}\n",
       "                    ).then(function(){\n",
       "                            \n",
       "var gd = document.getElementById('48b186bf-b739-4bb3-b246-059a988a3a6e');\n",
       "var x = new MutationObserver(function (mutations, observer) {{\n",
       "        var display = window.getComputedStyle(gd).display;\n",
       "        if (!display || display === 'none') {{\n",
       "            console.log([gd, 'removed!']);\n",
       "            Plotly.purge(gd);\n",
       "            observer.disconnect();\n",
       "        }}\n",
       "}});\n",
       "\n",
       "// Listen for the removal of the full notebook cells\n",
       "var notebookContainer = gd.closest('#notebook-container');\n",
       "if (notebookContainer) {{\n",
       "    x.observe(notebookContainer, {childList: true});\n",
       "}}\n",
       "\n",
       "// Listen for the clearing of the current output cell\n",
       "var outputEl = gd.closest('.output');\n",
       "if (outputEl) {{\n",
       "    x.observe(outputEl, {childList: true});\n",
       "}}\n",
       "\n",
       "                        })\n",
       "                };\n",
       "                });\n",
       "            </script>\n",
       "        </div>"
      ]
     },
     "metadata": {},
     "output_type": "display_data"
    }
   ],
   "source": [
    "top_10 = df.pivot_table(index = ['Name'], values = ['Global_Sales'], aggfunc = 'sum')\n",
    "top_10 = top_10.reset_index()\n",
    "top_10 = top_10.sort_values(by = 'Global_Sales', ascending= False).head(10)\n",
    "\n",
    "top_10.iplot(kind='bar', x='Name',  xTitle='Name',color='green',\n",
    "           yTitle='Global_Sales (Millones de €)', title='Top 10 juegos en ventas')"
   ]
  },
  {
   "cell_type": "code",
   "execution_count": 21,
   "metadata": {},
   "outputs": [
    {
     "data": {
      "image/png": "[encoded data removed]",
      "text/plain": [
       "<Figure size 1080x288 with 4 Axes>"
      ]
     },
     "metadata": {
      "needs_background": "light"
     },
     "output_type": "display_data"
    }
   ],
   "source": [
    "#Boxplot para entender la variabilidad de las muestras\n",
    "sales = ['NA_Sales','EU_Sales','JP_Sales','Other_Sales']\n",
    "f, ax = plt.subplots(1,4)\n",
    "f.set_figwidth(15)\n",
    "f.subplots_adjust(wspace=1)\n",
    "\n",
    "for i in range(0,4):\n",
    "    ax[i].set_title(sales[i])\n",
    "    ax[i].boxplot(df[sales[i]])"
   ]
  },
  {
   "cell_type": "code",
   "execution_count": 22,
   "metadata": {},
   "outputs": [],
   "source": [
    "#Scatter plot - Funcionaría tambien un gráfico de líneas\n",
    "Year_sales = df.pivot_table(index=[\"Genre\",\"Year\"],values=[\"Global_Sales\"],aggfunc='sum')"
   ]
  },
  {
   "cell_type": "code",
   "execution_count": 23,
   "metadata": {},
   "outputs": [
    {
     "data": {
      "text/html": [
       "<div>\n",
       "<style scoped>\n",
       "    .dataframe tbody tr th:only-of-type {\n",
       "        vertical-align: middle;\n",
       "    }\n",
       "\n",
       "    .dataframe tbody tr th {\n",
       "        vertical-align: top;\n",
       "    }\n",
       "\n",
       "    .dataframe thead th {\n",
       "        text-align: right;\n",
       "    }\n",
       "</style>\n",
       "<table border=\"1\" class=\"dataframe\">\n",
       "  <thead>\n",
       "    <tr style=\"text-align: right;\">\n",
       "      <th></th>\n",
       "      <th>Genre</th>\n",
       "      <th>Year</th>\n",
       "      <th>Global_Sales</th>\n",
       "    </tr>\n",
       "  </thead>\n",
       "  <tbody>\n",
       "    <tr>\n",
       "      <th>0</th>\n",
       "      <td>Action</td>\n",
       "      <td>1980</td>\n",
       "      <td>0.34</td>\n",
       "    </tr>\n",
       "    <tr>\n",
       "      <th>1</th>\n",
       "      <td>Action</td>\n",
       "      <td>1981</td>\n",
       "      <td>14.84</td>\n",
       "    </tr>\n",
       "    <tr>\n",
       "      <th>2</th>\n",
       "      <td>Action</td>\n",
       "      <td>1982</td>\n",
       "      <td>6.52</td>\n",
       "    </tr>\n",
       "    <tr>\n",
       "      <th>3</th>\n",
       "      <td>Action</td>\n",
       "      <td>1983</td>\n",
       "      <td>2.86</td>\n",
       "    </tr>\n",
       "    <tr>\n",
       "      <th>4</th>\n",
       "      <td>Action</td>\n",
       "      <td>1984</td>\n",
       "      <td>1.85</td>\n",
       "    </tr>\n",
       "  </tbody>\n",
       "</table>\n",
       "</div>"
      ],
      "text/plain": [
       "    Genre  Year  Global_Sales\n",
       "0  Action  1980          0.34\n",
       "1  Action  1981         14.84\n",
       "2  Action  1982          6.52\n",
       "3  Action  1983          2.86\n",
       "4  Action  1984          1.85"
      ]
     },
     "execution_count": 23,
     "metadata": {},
     "output_type": "execute_result"
    }
   ],
   "source": [
    "#Hay que resetear el index para poder graficarlo\n",
    "Year_sales = Year_sales.reset_index()\n",
    "Year_sales.head()"
   ]
  },
  {
   "cell_type": "code",
   "execution_count": 24,
   "metadata": {},
   "outputs": [
    {
     "data": {
      "application/vnd.plotly.v1+json": {
       "config": {
        "linkText": "Export to plot.ly",
        "plotlyServerURL": "https://plot.ly",
        "showLink": true
       },
       "data": [
        {
         "marker": {
          "color": "rgba(255, 153, 51, 1.0)",
          "line": {
           "width": 1.3
          },
          "opacity": 0.8,
          "size": 12,
          "symbol": "circle"
         },
         "mode": "markers",
         "name": "Action",
         "textfont": {
          "color": "#4D5663"
         },
         "type": "scatter",
         "uid": "89b3cc27-ea63-484e-bf41-f07d8df54653",
         "x": [
          1980,
          1981,
          1982,
          1983,
          1984,
          1985,
          1986,
          1987,
          1988,
          1989,
          1990,
          1991,
          1992,
          1993,
          1994,
          1995,
          1996,
          1997,
          1998,
          1999,
          2000,
          2001,
          2002,
          2003,
          2004,
          2005,
          2006,
          2007,
          2008,
          2009,
          2010,
          2011,
          2012,
          2013,
          2014,
          2015,
          2016,
          2017
         ],
         "y": [
          0.34,
          14.84,
          6.52,
          2.86,
          1.85,
          3.52,
          13.740000000000002,
          1.12,
          1.75,
          4.64,
          6.390000000000001,
          6.76,
          3.83,
          1.81,
          1.55,
          3.5700000000000007,
          20.580000000000005,
          27.580000000000002,
          39.440000000000005,
          27.77999999999999,
          34.04000000000002,
          59.39000000000001,
          86.76999999999992,
          67.92999999999999,
          76.25999999999998,
          85.69000000000005,
          66.58,
          106.50000000000006,
          136.39,
          139.3600000000001,
          117.63999999999997,
          118.96000000000001,
          122.00999999999988,
          125.22,
          99.02000000000008,
          70.69999999999996,
          19.900000000000023,
          0.01
         ]
        },
        {
         "marker": {
          "color": "rgba(55, 128, 191, 1.0)",
          "line": {
           "width": 1.3
          },
          "opacity": 0.8,
          "size": 12,
          "symbol": "circle"
         },
         "mode": "markers",
         "name": "Adventure",
         "textfont": {
          "color": "#4D5663"
         },
         "type": "scatter",
         "uid": "bac87fcc-e638-4e21-bfd3-8057da33aa65",
         "x": [
          1983,
          1987,
          1991,
          1992,
          1993,
          1994,
          1995,
          1996,
          1997,
          1998,
          1999,
          2000,
          2001,
          2002,
          2003,
          2004,
          2005,
          2006,
          2007,
          2008,
          2009,
          2010,
          2011,
          2012,
          2013,
          2014,
          2015,
          2016
         ],
         "y": [
          0.4,
          4.38,
          2.24,
          12.239999999999998,
          0.07,
          3.74,
          0.7200000000000002,
          4.1899999999999995,
          4.96,
          9.049999999999995,
          7.599999999999999,
          2.98,
          9.12,
          11.050000000000002,
          2.1399999999999997,
          8.509999999999998,
          8.530000000000001,
          11.469999999999986,
          24.470000000000027,
          25.020000000000028,
          20.68000000000003,
          16.570000000000004,
          15.979999999999977,
          5.989999999999999,
          6.609999999999992,
          6.0599999999999925,
          8.029999999999996,
          1.7900000000000007
         ]
        },
        {
         "marker": {
          "color": "rgba(50, 171, 96, 1.0)",
          "line": {
           "width": 1.3
          },
          "opacity": 0.8,
          "size": 12,
          "symbol": "circle"
         },
         "mode": "markers",
         "name": "Fighting",
         "textfont": {
          "color": "#4D5663"
         },
         "type": "scatter",
         "uid": "1bc2dd23-d8ac-4cda-86ae-095b4b797b69",
         "x": [
          1980,
          1985,
          1987,
          1991,
          1992,
          1993,
          1994,
          1995,
          1996,
          1997,
          1998,
          1999,
          2000,
          2001,
          2002,
          2003,
          2004,
          2005,
          2006,
          2007,
          2008,
          2009,
          2010,
          2011,
          2012,
          2013,
          2014,
          2015,
          2016
         ],
         "y": [
          0.77,
          1.05,
          5.42,
          0.39,
          15.25,
          8.750000000000002,
          8.47,
          14.85,
          18.06000000000001,
          11.76,
          31.660000000000018,
          14.259999999999994,
          20.22,
          18.12,
          25.020000000000003,
          23.730000000000004,
          16.780000000000005,
          19.71999999999999,
          22.55,
          17.609999999999996,
          35.37999999999999,
          32.15,
          14.890000000000002,
          22.68,
          9.51,
          7.21,
          16.15,
          7.78,
          3.859999999999999
         ]
        },
        {
         "marker": {
          "color": "rgba(128, 0, 128, 1.0)",
          "line": {
           "width": 1.3
          },
          "opacity": 0.8,
          "size": 12,
          "symbol": "circle"
         },
         "mode": "markers",
         "name": "Misc",
         "textfont": {
          "color": "#4D5663"
         },
         "type": "scatter",
         "uid": "05e27bea-2d5e-469e-8cb3-01a9e4167ea3",
         "x": [
          1980,
          1982,
          1983,
          1984,
          1989,
          1991,
          1992,
          1993,
          1994,
          1995,
          1996,
          1997,
          1998,
          1999,
          2000,
          2001,
          2002,
          2003,
          2004,
          2005,
          2006,
          2007,
          2008,
          2009,
          2010,
          2011,
          2012,
          2013,
          2014,
          2015,
          2016
         ],
         "y": [
          2.71,
          0.87,
          2.14,
          1.45,
          1.28,
          0.08,
          4.9399999999999995,
          0.3,
          2.8599999999999994,
          6.4,
          10.679999999999994,
          5.6899999999999995,
          11.940000000000003,
          20.649999999999995,
          15.54,
          16.400000000000002,
          15.669999999999998,
          23.82,
          26.20999999999999,
          59.81,
          67.34999999999995,
          91.06,
          87.03000000000004,
          76.94000000000001,
          96.86000000000001,
          56.08,
          22.920000000000012,
          25.65,
          23.68000000000001,
          11.689999999999998,
          1.1700000000000004
         ]
        },
        {
         "marker": {
          "color": "rgba(219, 64, 82, 1.0)",
          "line": {
           "width": 1.3
          },
          "opacity": 0.8,
          "size": 12,
          "symbol": "circle"
         },
         "mode": "markers",
         "name": "Platform",
         "textfont": {
          "color": "#4D5663"
         },
         "type": "scatter",
         "uid": "a9a13319-fc7f-4c42-8112-8ee81ee353e5",
         "x": [
          1981,
          1982,
          1983,
          1984,
          1985,
          1986,
          1987,
          1988,
          1989,
          1990,
          1991,
          1992,
          1993,
          1994,
          1995,
          1996,
          1997,
          1998,
          1999,
          2000,
          2001,
          2002,
          2003,
          2004,
          2005,
          2006,
          2007,
          2008,
          2009,
          2010,
          2011,
          2012,
          2013,
          2014,
          2015,
          2016
         ],
         "y": [
          6.93,
          5.03,
          6.93,
          0.69,
          43.17,
          9.39,
          1.7400000000000002,
          27.73,
          20.660000000000004,
          22.97,
          7.64,
          13.42,
          18.669999999999998,
          28.740000000000002,
          16.689999999999998,
          28.23,
          21.849999999999998,
          29.879999999999992,
          20.82,
          16.06,
          39.28,
          45.970000000000006,
          42.89,
          47.34000000000001,
          23.56,
          49.800000000000004,
          35.59,
          35.70000000000002,
          41.09000000000001,
          31.900000000000002,
          28.109999999999992,
          18.529999999999998,
          25.12,
          8.89,
          6.050000000000002,
          2.0699999999999994
         ]
        },
        {
         "marker": {
          "color": "rgba(0, 128, 128, 1.0)",
          "line": {
           "width": 1.3
          },
          "opacity": 0.8,
          "size": 12,
          "symbol": "circle"
         },
         "mode": "markers",
         "name": "Puzzle",
         "textfont": {
          "color": "#4D5663"
         },
         "type": "scatter",
         "uid": "06472cb5-b28f-451c-a640-652a0c0ff3c6",
         "x": [
          1981,
          1982,
          1983,
          1984,
          1985,
          1988,
          1989,
          1990,
          1991,
          1992,
          1993,
          1994,
          1995,
          1996,
          1997,
          1998,
          1999,
          2000,
          2001,
          2002,
          2003,
          2004,
          2005,
          2006,
          2007,
          2008,
          2009,
          2010,
          2011,
          2012,
          2013,
          2014,
          2015
         ],
         "y": [
          2.2399999999999998,
          10.03,
          0.78,
          3.14,
          3.2100000000000004,
          5.58,
          37.75,
          6,
          3.2399999999999998,
          4.840000000000001,
          3.17,
          1.53,
          2.7099999999999995,
          3.91,
          5.890000000000001,
          6.339999999999999,
          1.36,
          3.82,
          7.999999999999998,
          5.339999999999997,
          2.4199999999999995,
          8.429999999999998,
          20.449999999999992,
          10.899999999999997,
          23.999999999999993,
          15.589999999999993,
          20.31000000000001,
          11.179999999999993,
          5.109999999999997,
          1.7600000000000005,
          0.99,
          1.4900000000000002,
          0.7000000000000002
         ]
        },
        {
         "marker": {
          "color": "rgba(255, 255, 51, 1.0)",
          "line": {
           "width": 1.3
          },
          "opacity": 0.8,
          "size": 12,
          "symbol": "circle"
         },
         "mode": "markers",
         "name": "Racing",
         "textfont": {
          "color": "#4D5663"
         },
         "type": "scatter",
         "uid": "f561131c-9de4-4107-a308-5d8589b61ed7",
         "x": [
          1981,
          1982,
          1984,
          1986,
          1988,
          1990,
          1991,
          1992,
          1993,
          1994,
          1995,
          1996,
          1997,
          1998,
          1999,
          2000,
          2001,
          2002,
          2003,
          2004,
          2005,
          2006,
          2007,
          2008,
          2009,
          2010,
          2011,
          2012,
          2013,
          2014,
          2015,
          2016
         ],
         "y": [
          0.48,
          1.5699999999999998,
          5.949999999999999,
          1.96,
          2.14,
          6.26,
          1.14,
          9.04,
          0.36,
          2.1899999999999995,
          6.09,
          28.23999999999999,
          31.910000000000004,
          27.89999999999999,
          37.27,
          19.990000000000002,
          55.809999999999995,
          30.200000000000003,
          52.190000000000026,
          47.86000000000003,
          56.42000000000003,
          34.09000000000002,
          39.170000000000016,
          70.66,
          34.19000000000002,
          34.93,
          35.00000000000001,
          14.459999999999997,
          13.040000000000001,
          16.69000000000001,
          7.92,
          1.6400000000000006
         ]
        },
        {
         "marker": {
          "color": "rgba(128, 128, 0, 1.0)",
          "line": {
           "width": 1.3
          },
          "opacity": 0.8,
          "size": 12,
          "symbol": "circle"
         },
         "mode": "markers",
         "name": "Role-Playing",
         "textfont": {
          "color": "#4D5663"
         },
         "type": "scatter",
         "uid": "6e839cb3-e2c3-47cb-aa94-671e28a10ae0",
         "x": [
          1986,
          1987,
          1988,
          1989,
          1990,
          1991,
          1992,
          1993,
          1994,
          1995,
          1996,
          1997,
          1998,
          1999,
          2000,
          2001,
          2002,
          2003,
          2004,
          2005,
          2006,
          2007,
          2008,
          2009,
          2010,
          2011,
          2012,
          2013,
          2014,
          2015,
          2016,
          2017
         ],
         "y": [
          2.52,
          4.65,
          5.88,
          2.2,
          4.52,
          3.25,
          6.86,
          5.590000000000001,
          7.110000000000001,
          14.260000000000002,
          43.96,
          21.79,
          28.090000000000007,
          49.089999999999996,
          29.029999999999998,
          22.06000000000001,
          45.12999999999999,
          30.279999999999983,
          53.949999999999996,
          28.549999999999983,
          57.730000000000004,
          43.89000000000003,
          59.83000000000005,
          47.900000000000006,
          70.51999999999997,
          53.37000000000002,
          47.81000000000002,
          44.920000000000016,
          45.84999999999999,
          36.439999999999976,
          6.759999999999995,
          0.04
         ]
        },
        {
         "marker": {
          "color": "rgba(251, 128, 114, 1.0)",
          "line": {
           "width": 1.3
          },
          "opacity": 0.8,
          "size": 12,
          "symbol": "circle"
         },
         "mode": "markers",
         "name": "Shooter",
         "textfont": {
          "color": "#4D5663"
         },
         "type": "scatter",
         "uid": "0f9b3e37-6ea9-46d7-936a-3baab469f0d8",
         "x": [
          1980,
          1981,
          1982,
          1983,
          1984,
          1985,
          1986,
          1987,
          1988,
          1989,
          1991,
          1992,
          1993,
          1994,
          1995,
          1996,
          1997,
          1998,
          1999,
          2000,
          2001,
          2002,
          2003,
          2004,
          2005,
          2006,
          2007,
          2008,
          2009,
          2010,
          2011,
          2012,
          2013,
          2014,
          2015,
          2016
         ],
         "y": [
          7.069999999999999,
          10.040000000000001,
          3.79,
          0.48,
          31.099999999999998,
          1,
          3.89,
          0.71,
          0.51,
          1.2,
          2,
          0.29000000000000004,
          3.08,
          8.3,
          4.1499999999999995,
          6.91,
          22.169999999999998,
          9.799999999999997,
          12.249999999999998,
          6.81,
          24.770000000000003,
          48.579999999999984,
          27.140000000000008,
          46.95000000000003,
          41.60000000000003,
          38.37000000000004,
          71.03999999999999,
          59.51000000000001,
          69.89000000000001,
          77.40999999999994,
          99.36,
          72.85999999999999,
          62.799999999999976,
          65.99999999999996,
          66.14999999999999,
          18.219999999999995
         ]
        },
        {
         "marker": {
          "color": "rgba(128, 177, 211, 1.0)",
          "line": {
           "width": 1.3
          },
          "opacity": 0.8,
          "size": 12,
          "symbol": "circle"
         },
         "mode": "markers",
         "name": "Simulation",
         "textfont": {
          "color": "#4D5663"
         },
         "type": "scatter",
         "uid": "12bbcaf9-81b9-42b6-94cc-6e4717fd25e5",
         "x": [
          1981,
          1985,
          1988,
          1990,
          1991,
          1992,
          1993,
          1994,
          1995,
          1996,
          1997,
          1998,
          1999,
          2000,
          2001,
          2002,
          2003,
          2004,
          2005,
          2006,
          2007,
          2008,
          2009,
          2010,
          2011,
          2012,
          2013,
          2014,
          2015,
          2016,
          2020
         ],
         "y": [
          0.45,
          0.03,
          0.03,
          1.14,
          2.14,
          2.14,
          0.19,
          2.73,
          4.18,
          11.330000000000004,
          9.65,
          7.109999999999999,
          11.44,
          3.379999999999999,
          19.54,
          10.81,
          21.21,
          10.849999999999996,
          49.27000000000004,
          21.77000000000001,
          48.97000000000001,
          46.759999999999984,
          33.710000000000015,
          21.990000000000013,
          15.259999999999998,
          13.38,
          8.669999999999995,
          5.55,
          5.62,
          0.3900000000000001,
          0.29
         ]
        },
        {
         "marker": {
          "color": "rgba(128, 177, 211, 0.8999999999999999)",
          "line": {
           "width": 1.3
          },
          "opacity": 0.8,
          "size": 12,
          "symbol": "circle"
         },
         "mode": "markers",
         "name": "Sports",
         "textfont": {
          "color": "#4D5663"
         },
         "type": "scatter",
         "uid": "753c4c10-1896-40ad-a25f-024393163336",
         "x": [
          1980,
          1981,
          1982,
          1983,
          1984,
          1985,
          1986,
          1987,
          1988,
          1989,
          1990,
          1991,
          1992,
          1993,
          1994,
          1995,
          1996,
          1997,
          1998,
          1999,
          2000,
          2001,
          2002,
          2003,
          2004,
          2005,
          2006,
          2007,
          2008,
          2009,
          2010,
          2011,
          2012,
          2013,
          2014,
          2015,
          2016
         ],
         "y": [
          0.49,
          0.7899999999999999,
          1.05,
          3.2,
          6.18,
          1.96,
          5.57,
          3.7199999999999998,
          3.5999999999999996,
          5.720000000000001,
          2.11,
          2.4099999999999997,
          2.95,
          3.1799999999999997,
          8.389999999999999,
          7.980000000000002,
          17.450000000000006,
          30.020000000000003,
          41.79000000000002,
          30.289999999999996,
          41.19,
          51.43000000000002,
          65.41999999999999,
          56.11,
          63.68000000000003,
          59.540000000000035,
          136.16000000000003,
          98.20000000000002,
          95.33999999999996,
          138.5200000000001,
          92.53,
          56.990000000000016,
          30.930000000000007,
          41.550000000000026,
          46.66,
          41.54000000000001,
          14.599999999999996
         ]
        },
        {
         "marker": {
          "color": "rgba(255, 153, 51, 0.8999999999999999)",
          "line": {
           "width": 1.3
          },
          "opacity": 0.8,
          "size": 12,
          "symbol": "circle"
         },
         "mode": "markers",
         "name": "Strategy",
         "textfont": {
          "color": "#4D5663"
         },
         "type": "scatter",
         "uid": "c3f6b166-269e-4f43-a6aa-69496add2eb2",
         "x": [
          1991,
          1992,
          1993,
          1994,
          1995,
          1996,
          1997,
          1998,
          1999,
          2000,
          2001,
          2002,
          2003,
          2004,
          2005,
          2006,
          2007,
          2008,
          2009,
          2010,
          2011,
          2012,
          2013,
          2014,
          2015,
          2016
         ],
         "y": [
          0.94,
          0.36,
          0.81,
          3.5600000000000005,
          6.510000000000001,
          5.610000000000001,
          7.710000000000002,
          13.47,
          18.460000000000008,
          8.500000000000002,
          7.55,
          5.559999999999998,
          7.990000000000002,
          7.1899999999999995,
          5.37,
          4.269999999999995,
          9.419999999999991,
          11.689999999999996,
          12.559999999999992,
          13.869999999999989,
          8.899999999999993,
          3.329999999999999,
          6.330000000000001,
          0.9900000000000002,
          1.8200000000000003,
          0.5000000000000001
         ]
        }
       ],
       "layout": {
        "legend": {
         "bgcolor": "#F5F6F9",
         "font": {
          "color": "#4D5663"
         }
        },
        "paper_bgcolor": "#F5F6F9",
        "plot_bgcolor": "#F5F6F9",
        "title": {
         "font": {
          "color": "#4D5663"
         }
        },
        "xaxis": {
         "gridcolor": "#E1E5ED",
         "showgrid": true,
         "tickfont": {
          "color": "#4D5663"
         },
         "title": {
          "font": {
           "color": "#4D5663"
          },
          "text": "Year"
         },
         "zerolinecolor": "#E1E5ED"
        },
        "yaxis": {
         "gridcolor": "#E1E5ED",
         "showgrid": true,
         "tickfont": {
          "color": "#4D5663"
         },
         "title": {
          "font": {
           "color": "#4D5663"
          },
          "text": "Global_Sales (Millones de €)"
         },
         "zerolinecolor": "#E1E5ED"
        }
       }
      },
      "text/html": [
       "<div>\n",
       "        \n",
       "        \n",
       "            <div id=\"dabeecb0-422f-4187-93c3-533701866011\" class=\"plotly-graph-div\" style=\"height:525px; width:100%;\"></div>\n",
       "            <script type=\"text/javascript\">\n",
       "                require([\"plotly\"], function(Plotly) {\n",
       "                    window.PLOTLYENV=window.PLOTLYENV || {};\n",
       "                    window.PLOTLYENV.BASE_URL='https://plot.ly';\n",
       "                    \n",
       "                if (document.getElementById(\"dabeecb0-422f-4187-93c3-533701866011\")) {\n",
       "                    Plotly.newPlot(\n",
       "                        'dabeecb0-422f-4187-93c3-533701866011',\n",
       "                        [{\"marker\": {\"color\": \"rgba(255, 153, 51, 1.0)\", \"line\": {\"width\": 1.3}, \"opacity\": 0.8, \"size\": 12, \"symbol\": \"circle\"}, \"mode\": \"markers\", \"name\": \"Action\", \"textfont\": {\"color\": \"#4D5663\"}, \"type\": \"scatter\", \"uid\": \"89b3cc27-ea63-484e-bf41-f07d8df54653\", \"x\": [1980, 1981, 1982, 1983, 1984, 1985, 1986, 1987, 1988, 1989, 1990, 1991, 1992, 1993, 1994, 1995, 1996, 1997, 1998, 1999, 2000, 2001, 2002, 2003, 2004, 2005, 2006, 2007, 2008, 2009, 2010, 2011, 2012, 2013, 2014, 2015, 2016, 2017], \"y\": [0.34, 14.84, 6.52, 2.86, 1.85, 3.52, 13.740000000000002, 1.12, 1.75, 4.64, 6.390000000000001, 6.76, 3.83, 1.81, 1.55, 3.5700000000000007, 20.580000000000005, 27.580000000000002, 39.440000000000005, 27.77999999999999, 34.04000000000002, 59.39000000000001, 86.76999999999992, 67.92999999999999, 76.25999999999998, 85.69000000000005, 66.58, 106.50000000000006, 136.39, 139.3600000000001, 117.63999999999997, 118.96000000000001, 122.00999999999988, 125.22, 99.02000000000008, 70.69999999999996, 19.900000000000023, 0.01]}, {\"marker\": {\"color\": \"rgba(55, 128, 191, 1.0)\", \"line\": {\"width\": 1.3}, \"opacity\": 0.8, \"size\": 12, \"symbol\": \"circle\"}, \"mode\": \"markers\", \"name\": \"Adventure\", \"textfont\": {\"color\": \"#4D5663\"}, \"type\": \"scatter\", \"uid\": \"bac87fcc-e638-4e21-bfd3-8057da33aa65\", \"x\": [1983, 1987, 1991, 1992, 1993, 1994, 1995, 1996, 1997, 1998, 1999, 2000, 2001, 2002, 2003, 2004, 2005, 2006, 2007, 2008, 2009, 2010, 2011, 2012, 2013, 2014, 2015, 2016], \"y\": [0.4, 4.38, 2.24, 12.239999999999998, 0.07, 3.74, 0.7200000000000002, 4.1899999999999995, 4.96, 9.049999999999995, 7.599999999999999, 2.98, 9.12, 11.050000000000002, 2.1399999999999997, 8.509999999999998, 8.530000000000001, 11.469999999999986, 24.470000000000027, 25.020000000000028, 20.68000000000003, 16.570000000000004, 15.979999999999977, 5.989999999999999, 6.609999999999992, 6.0599999999999925, 8.029999999999996, 1.7900000000000007]}, {\"marker\": {\"color\": \"rgba(50, 171, 96, 1.0)\", \"line\": {\"width\": 1.3}, \"opacity\": 0.8, \"size\": 12, \"symbol\": \"circle\"}, \"mode\": \"markers\", \"name\": \"Fighting\", \"textfont\": {\"color\": \"#4D5663\"}, \"type\": \"scatter\", \"uid\": \"1bc2dd23-d8ac-4cda-86ae-095b4b797b69\", \"x\": [1980, 1985, 1987, 1991, 1992, 1993, 1994, 1995, 1996, 1997, 1998, 1999, 2000, 2001, 2002, 2003, 2004, 2005, 2006, 2007, 2008, 2009, 2010, 2011, 2012, 2013, 2014, 2015, 2016], \"y\": [0.77, 1.05, 5.42, 0.39, 15.25, 8.750000000000002, 8.47, 14.85, 18.06000000000001, 11.76, 31.660000000000018, 14.259999999999994, 20.22, 18.12, 25.020000000000003, 23.730000000000004, 16.780000000000005, 19.71999999999999, 22.55, 17.609999999999996, 35.37999999999999, 32.15, 14.890000000000002, 22.68, 9.51, 7.21, 16.15, 7.78, 3.859999999999999]}, {\"marker\": {\"color\": \"rgba(128, 0, 128, 1.0)\", \"line\": {\"width\": 1.3}, \"opacity\": 0.8, \"size\": 12, \"symbol\": \"circle\"}, \"mode\": \"markers\", \"name\": \"Misc\", \"textfont\": {\"color\": \"#4D5663\"}, \"type\": \"scatter\", \"uid\": \"05e27bea-2d5e-469e-8cb3-01a9e4167ea3\", \"x\": [1980, 1982, 1983, 1984, 1989, 1991, 1992, 1993, 1994, 1995, 1996, 1997, 1998, 1999, 2000, 2001, 2002, 2003, 2004, 2005, 2006, 2007, 2008, 2009, 2010, 2011, 2012, 2013, 2014, 2015, 2016], \"y\": [2.71, 0.87, 2.14, 1.45, 1.28, 0.08, 4.9399999999999995, 0.3, 2.8599999999999994, 6.4, 10.679999999999994, 5.6899999999999995, 11.940000000000003, 20.649999999999995, 15.54, 16.400000000000002, 15.669999999999998, 23.82, 26.20999999999999, 59.81, 67.34999999999995, 91.06, 87.03000000000004, 76.94000000000001, 96.86000000000001, 56.08, 22.920000000000012, 25.65, 23.68000000000001, 11.689999999999998, 1.1700000000000004]}, {\"marker\": {\"color\": \"rgba(219, 64, 82, 1.0)\", \"line\": {\"width\": 1.3}, \"opacity\": 0.8, \"size\": 12, \"symbol\": \"circle\"}, \"mode\": \"markers\", \"name\": \"Platform\", \"textfont\": {\"color\": \"#4D5663\"}, \"type\": \"scatter\", \"uid\": \"a9a13319-fc7f-4c42-8112-8ee81ee353e5\", \"x\": [1981, 1982, 1983, 1984, 1985, 1986, 1987, 1988, 1989, 1990, 1991, 1992, 1993, 1994, 1995, 1996, 1997, 1998, 1999, 2000, 2001, 2002, 2003, 2004, 2005, 2006, 2007, 2008, 2009, 2010, 2011, 2012, 2013, 2014, 2015, 2016], \"y\": [6.93, 5.03, 6.93, 0.69, 43.17, 9.39, 1.7400000000000002, 27.73, 20.660000000000004, 22.97, 7.64, 13.42, 18.669999999999998, 28.740000000000002, 16.689999999999998, 28.23, 21.849999999999998, 29.879999999999992, 20.82, 16.06, 39.28, 45.970000000000006, 42.89, 47.34000000000001, 23.56, 49.800000000000004, 35.59, 35.70000000000002, 41.09000000000001, 31.900000000000002, 28.109999999999992, 18.529999999999998, 25.12, 8.89, 6.050000000000002, 2.0699999999999994]}, {\"marker\": {\"color\": \"rgba(0, 128, 128, 1.0)\", \"line\": {\"width\": 1.3}, \"opacity\": 0.8, \"size\": 12, \"symbol\": \"circle\"}, \"mode\": \"markers\", \"name\": \"Puzzle\", \"textfont\": {\"color\": \"#4D5663\"}, \"type\": \"scatter\", \"uid\": \"06472cb5-b28f-451c-a640-652a0c0ff3c6\", \"x\": [1981, 1982, 1983, 1984, 1985, 1988, 1989, 1990, 1991, 1992, 1993, 1994, 1995, 1996, 1997, 1998, 1999, 2000, 2001, 2002, 2003, 2004, 2005, 2006, 2007, 2008, 2009, 2010, 2011, 2012, 2013, 2014, 2015], \"y\": [2.2399999999999998, 10.03, 0.78, 3.14, 3.2100000000000004, 5.58, 37.75, 6.0, 3.2399999999999998, 4.840000000000001, 3.17, 1.53, 2.7099999999999995, 3.91, 5.890000000000001, 6.339999999999999, 1.36, 3.82, 7.999999999999998, 5.339999999999997, 2.4199999999999995, 8.429999999999998, 20.449999999999992, 10.899999999999997, 23.999999999999993, 15.589999999999993, 20.31000000000001, 11.179999999999993, 5.109999999999997, 1.7600000000000005, 0.99, 1.4900000000000002, 0.7000000000000002]}, {\"marker\": {\"color\": \"rgba(255, 255, 51, 1.0)\", \"line\": {\"width\": 1.3}, \"opacity\": 0.8, \"size\": 12, \"symbol\": \"circle\"}, \"mode\": \"markers\", \"name\": \"Racing\", \"textfont\": {\"color\": \"#4D5663\"}, \"type\": \"scatter\", \"uid\": \"f561131c-9de4-4107-a308-5d8589b61ed7\", \"x\": [1981, 1982, 1984, 1986, 1988, 1990, 1991, 1992, 1993, 1994, 1995, 1996, 1997, 1998, 1999, 2000, 2001, 2002, 2003, 2004, 2005, 2006, 2007, 2008, 2009, 2010, 2011, 2012, 2013, 2014, 2015, 2016], \"y\": [0.48, 1.5699999999999998, 5.949999999999999, 1.96, 2.14, 6.26, 1.14, 9.04, 0.36, 2.1899999999999995, 6.09, 28.23999999999999, 31.910000000000004, 27.89999999999999, 37.27, 19.990000000000002, 55.809999999999995, 30.200000000000003, 52.190000000000026, 47.86000000000003, 56.42000000000003, 34.09000000000002, 39.170000000000016, 70.66, 34.19000000000002, 34.93, 35.00000000000001, 14.459999999999997, 13.040000000000001, 16.69000000000001, 7.92, 1.6400000000000006]}, {\"marker\": {\"color\": \"rgba(128, 128, 0, 1.0)\", \"line\": {\"width\": 1.3}, \"opacity\": 0.8, \"size\": 12, \"symbol\": \"circle\"}, \"mode\": \"markers\", \"name\": \"Role-Playing\", \"textfont\": {\"color\": \"#4D5663\"}, \"type\": \"scatter\", \"uid\": \"6e839cb3-e2c3-47cb-aa94-671e28a10ae0\", \"x\": [1986, 1987, 1988, 1989, 1990, 1991, 1992, 1993, 1994, 1995, 1996, 1997, 1998, 1999, 2000, 2001, 2002, 2003, 2004, 2005, 2006, 2007, 2008, 2009, 2010, 2011, 2012, 2013, 2014, 2015, 2016, 2017], \"y\": [2.52, 4.65, 5.88, 2.2, 4.52, 3.25, 6.86, 5.590000000000001, 7.110000000000001, 14.260000000000002, 43.96, 21.79, 28.090000000000007, 49.089999999999996, 29.029999999999998, 22.06000000000001, 45.12999999999999, 30.279999999999983, 53.949999999999996, 28.549999999999983, 57.730000000000004, 43.89000000000003, 59.83000000000005, 47.900000000000006, 70.51999999999997, 53.37000000000002, 47.81000000000002, 44.920000000000016, 45.84999999999999, 36.439999999999976, 6.759999999999995, 0.04]}, {\"marker\": {\"color\": \"rgba(251, 128, 114, 1.0)\", \"line\": {\"width\": 1.3}, \"opacity\": 0.8, \"size\": 12, \"symbol\": \"circle\"}, \"mode\": \"markers\", \"name\": \"Shooter\", \"textfont\": {\"color\": \"#4D5663\"}, \"type\": \"scatter\", \"uid\": \"0f9b3e37-6ea9-46d7-936a-3baab469f0d8\", \"x\": [1980, 1981, 1982, 1983, 1984, 1985, 1986, 1987, 1988, 1989, 1991, 1992, 1993, 1994, 1995, 1996, 1997, 1998, 1999, 2000, 2001, 2002, 2003, 2004, 2005, 2006, 2007, 2008, 2009, 2010, 2011, 2012, 2013, 2014, 2015, 2016], \"y\": [7.069999999999999, 10.040000000000001, 3.79, 0.48, 31.099999999999998, 1.0, 3.89, 0.71, 0.51, 1.2, 2.0, 0.29000000000000004, 3.08, 8.3, 4.1499999999999995, 6.91, 22.169999999999998, 9.799999999999997, 12.249999999999998, 6.81, 24.770000000000003, 48.579999999999984, 27.140000000000008, 46.95000000000003, 41.60000000000003, 38.37000000000004, 71.03999999999999, 59.51000000000001, 69.89000000000001, 77.40999999999994, 99.36, 72.85999999999999, 62.799999999999976, 65.99999999999996, 66.14999999999999, 18.219999999999995]}, {\"marker\": {\"color\": \"rgba(128, 177, 211, 1.0)\", \"line\": {\"width\": 1.3}, \"opacity\": 0.8, \"size\": 12, \"symbol\": \"circle\"}, \"mode\": \"markers\", \"name\": \"Simulation\", \"textfont\": {\"color\": \"#4D5663\"}, \"type\": \"scatter\", \"uid\": \"12bbcaf9-81b9-42b6-94cc-6e4717fd25e5\", \"x\": [1981, 1985, 1988, 1990, 1991, 1992, 1993, 1994, 1995, 1996, 1997, 1998, 1999, 2000, 2001, 2002, 2003, 2004, 2005, 2006, 2007, 2008, 2009, 2010, 2011, 2012, 2013, 2014, 2015, 2016, 2020], \"y\": [0.45, 0.03, 0.03, 1.14, 2.14, 2.14, 0.19, 2.73, 4.18, 11.330000000000004, 9.65, 7.109999999999999, 11.44, 3.379999999999999, 19.54, 10.81, 21.21, 10.849999999999996, 49.27000000000004, 21.77000000000001, 48.97000000000001, 46.759999999999984, 33.710000000000015, 21.990000000000013, 15.259999999999998, 13.38, 8.669999999999995, 5.55, 5.62, 0.3900000000000001, 0.29]}, {\"marker\": {\"color\": \"rgba(128, 177, 211, 0.8999999999999999)\", \"line\": {\"width\": 1.3}, \"opacity\": 0.8, \"size\": 12, \"symbol\": \"circle\"}, \"mode\": \"markers\", \"name\": \"Sports\", \"textfont\": {\"color\": \"#4D5663\"}, \"type\": \"scatter\", \"uid\": \"753c4c10-1896-40ad-a25f-024393163336\", \"x\": [1980, 1981, 1982, 1983, 1984, 1985, 1986, 1987, 1988, 1989, 1990, 1991, 1992, 1993, 1994, 1995, 1996, 1997, 1998, 1999, 2000, 2001, 2002, 2003, 2004, 2005, 2006, 2007, 2008, 2009, 2010, 2011, 2012, 2013, 2014, 2015, 2016], \"y\": [0.49, 0.7899999999999999, 1.05, 3.2, 6.18, 1.96, 5.57, 3.7199999999999998, 3.5999999999999996, 5.720000000000001, 2.11, 2.4099999999999997, 2.95, 3.1799999999999997, 8.389999999999999, 7.980000000000002, 17.450000000000006, 30.020000000000003, 41.79000000000002, 30.289999999999996, 41.19, 51.43000000000002, 65.41999999999999, 56.11, 63.68000000000003, 59.540000000000035, 136.16000000000003, 98.20000000000002, 95.33999999999996, 138.5200000000001, 92.53, 56.990000000000016, 30.930000000000007, 41.550000000000026, 46.66, 41.54000000000001, 14.599999999999996]}, {\"marker\": {\"color\": \"rgba(255, 153, 51, 0.8999999999999999)\", \"line\": {\"width\": 1.3}, \"opacity\": 0.8, \"size\": 12, \"symbol\": \"circle\"}, \"mode\": \"markers\", \"name\": \"Strategy\", \"textfont\": {\"color\": \"#4D5663\"}, \"type\": \"scatter\", \"uid\": \"c3f6b166-269e-4f43-a6aa-69496add2eb2\", \"x\": [1991, 1992, 1993, 1994, 1995, 1996, 1997, 1998, 1999, 2000, 2001, 2002, 2003, 2004, 2005, 2006, 2007, 2008, 2009, 2010, 2011, 2012, 2013, 2014, 2015, 2016], \"y\": [0.94, 0.36, 0.81, 3.5600000000000005, 6.510000000000001, 5.610000000000001, 7.710000000000002, 13.47, 18.460000000000008, 8.500000000000002, 7.55, 5.559999999999998, 7.990000000000002, 7.1899999999999995, 5.37, 4.269999999999995, 9.419999999999991, 11.689999999999996, 12.559999999999992, 13.869999999999989, 8.899999999999993, 3.329999999999999, 6.330000000000001, 0.9900000000000002, 1.8200000000000003, 0.5000000000000001]}],\n",
       "                        {\"legend\": {\"bgcolor\": \"#F5F6F9\", \"font\": {\"color\": \"#4D5663\"}}, \"paper_bgcolor\": \"#F5F6F9\", \"plot_bgcolor\": \"#F5F6F9\", \"title\": {\"font\": {\"color\": \"#4D5663\"}}, \"xaxis\": {\"gridcolor\": \"#E1E5ED\", \"showgrid\": true, \"tickfont\": {\"color\": \"#4D5663\"}, \"title\": {\"font\": {\"color\": \"#4D5663\"}, \"text\": \"Year\"}, \"zerolinecolor\": \"#E1E5ED\"}, \"yaxis\": {\"gridcolor\": \"#E1E5ED\", \"showgrid\": true, \"tickfont\": {\"color\": \"#4D5663\"}, \"title\": {\"font\": {\"color\": \"#4D5663\"}, \"text\": \"Global_Sales (Millones de \\u20ac)\"}, \"zerolinecolor\": \"#E1E5ED\"}},\n",
       "                        {\"showLink\": true, \"linkText\": \"Export to plot.ly\", \"plotlyServerURL\": \"https://plot.ly\", \"responsive\": true}\n",
       "                    ).then(function(){\n",
       "                            \n",
       "var gd = document.getElementById('dabeecb0-422f-4187-93c3-533701866011');\n",
       "var x = new MutationObserver(function (mutations, observer) {{\n",
       "        var display = window.getComputedStyle(gd).display;\n",
       "        if (!display || display === 'none') {{\n",
       "            console.log([gd, 'removed!']);\n",
       "            Plotly.purge(gd);\n",
       "            observer.disconnect();\n",
       "        }}\n",
       "}});\n",
       "\n",
       "// Listen for the removal of the full notebook cells\n",
       "var notebookContainer = gd.closest('#notebook-container');\n",
       "if (notebookContainer) {{\n",
       "    x.observe(notebookContainer, {childList: true});\n",
       "}}\n",
       "\n",
       "// Listen for the clearing of the current output cell\n",
       "var outputEl = gd.closest('.output');\n",
       "if (outputEl) {{\n",
       "    x.observe(outputEl, {childList: true});\n",
       "}}\n",
       "\n",
       "                        })\n",
       "                };\n",
       "                });\n",
       "            </script>\n",
       "        </div>"
      ]
     },
     "metadata": {},
     "output_type": "display_data"
    }
   ],
   "source": [
    "Year_sales.iplot(kind='line', x='Year', y='Global_Sales', categories= 'Genre', xTitle='Year',\n",
    "           yTitle='Global_Sales (Millones de €)' )"
   ]
  },
  {
   "cell_type": "code",
   "execution_count": 25,
   "metadata": {},
   "outputs": [
    {
     "data": {
      "text/plain": [
       "<matplotlib.axes._subplots.AxesSubplot at 0x7fb92f59de80>"
      ]
     },
     "execution_count": 25,
     "metadata": {},
     "output_type": "execute_result"
    },
    {
     "data": {
      "image/png": "[encoded data removed]",
      "text/plain": [
       "<Figure size 720x720 with 1 Axes>"
      ]
     },
     "metadata": {
      "needs_background": "light"
     },
     "output_type": "display_data"
    }
   ],
   "source": [
    "#Vamos a comprobar si 2 variables continuas tienen correlación entre ellas:\n",
    "plt.figure(figsize= (10,10))\n",
    "sns.regplot(data = df, x='NA_Sales', y='EU_Sales')"
   ]
  },
  {
   "cell_type": "code",
   "execution_count": 26,
   "metadata": {},
   "outputs": [
    {
     "data": {
      "text/plain": [
       "0.7689229927565608"
      ]
     },
     "execution_count": 26,
     "metadata": {},
     "output_type": "execute_result"
    }
   ],
   "source": [
    "df['NA_Sales'].corr(df['EU_Sales'])"
   ]
  },
  {
   "cell_type": "code",
   "execution_count": 27,
   "metadata": {},
   "outputs": [
    {
     "data": {
      "image/png": "[encoded data removed]",
      "text/plain": [
       "<Figure size 1152x1152 with 1 Axes>"
      ]
     },
     "metadata": {
      "needs_background": "light"
     },
     "output_type": "display_data"
    }
   ],
   "source": [
    "#Histograma de global sales\n",
    "Global_Sales = df[df['Global_Sales']<20]\n",
    "df[df['Global_Sales']<20]['Global_Sales'].hist(bins=500,figsize=(16,16));"
   ]
  },
  {
   "cell_type": "code",
   "execution_count": 28,
   "metadata": {},
   "outputs": [
    {
     "data": {
      "text/plain": [
       "<matplotlib.axes._subplots.AxesSubplot at 0x7fb92f6039b0>"
      ]
     },
     "execution_count": 28,
     "metadata": {},
     "output_type": "execute_result"
    },
    {
     "data": {
      "image/png": "[encoded data removed]",
      "text/plain": [
       "<Figure size 432x288 with 1 Axes>"
      ]
     },
     "metadata": {
      "needs_background": "light"
     },
     "output_type": "display_data"
    }
   ],
   "source": [
    "#Hago una transformación logarítmica por si quisiera meterla en un modelo\n",
    "np.log(df['Global_Sales']).hist()"
   ]
  },
  {
   "cell_type": "code",
   "execution_count": null,
   "metadata": {},
   "outputs": [],
   "source": []
  },
  {
   "cell_type": "code",
   "execution_count": null,
   "metadata": {},
   "outputs": [],
   "source": []
  },
  {
   "cell_type": "code",
   "execution_count": null,
   "metadata": {},
   "outputs": [],
   "source": []
  }
 ],
 "metadata": {
  "kernelspec": {
   "display_name": "Python 3",
   "language": "python",
   "name": "python3"
  },
  "language_info": {
   "codemirror_mode": {
    "name": "ipython",
    "version": 3
   },
   "file_extension": ".py",
   "mimetype": "text/x-python",
   "name": "python",
   "nbconvert_exporter": "python",
   "pygments_lexer": "ipython3",
   "version": "3.6.8"
  }
 },
 "nbformat": 4,
 "nbformat_minor": 2
}
